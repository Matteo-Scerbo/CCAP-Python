{
 "cells": [
  {
   "cell_type": "code",
   "execution_count": 122,
   "metadata": {
    "collapsed": true
   },
   "outputs": [],
   "source": [
    "import numpy as np\n",
    "%matplotlib inline"
   ]
  },
  {
   "cell_type": "markdown",
   "metadata": {},
   "source": [
    "# Definition of objects: encapsulation"
   ]
  },
  {
   "cell_type": "markdown",
   "metadata": {},
   "source": [
    "Objects in python are defined \"classes\", here how they are designed:"
   ]
  },
  {
   "cell_type": "code",
   "execution_count": 107,
   "metadata": {
    "collapsed": false
   },
   "outputs": [],
   "source": [
    "class Sphere():\n",
    "    \n",
    "    def __init__(self): #possible args\n",
    "        '''This is an initialization. First argument, for EACH method, is self'''\n",
    "        \n",
    "        self.radius=0        \n",
    "        self.anchorPos=np.zeros((2,)) \n",
    "        self.curPos=np.zeros((2,))\n",
    "    def setRadius(self, radius): # public method\n",
    "        self.__setRadius(radius)\n",
    "    \n",
    "    def setPosition(self, posX=None,posY=None):\n",
    "        if posX is None:\n",
    "            self.anchorPos[0]=np.random.random()\n",
    "        if posY is None:\n",
    "            self.anchorPos[1]=np.random.random()    \n",
    "    def __setRadius(self,radius): # private method\n",
    "        self.radius=radius\n",
    "    def getRadius(self):\n",
    "        return self.radius # returns an argument\n",
    "    def getPosition(self):\n",
    "        return self.anchorPos"
   ]
  },
  {
   "cell_type": "code",
   "execution_count": 108,
   "metadata": {
    "collapsed": false
   },
   "outputs": [],
   "source": [
    "s= Sphere()"
   ]
  },
  {
   "cell_type": "markdown",
   "metadata": {},
   "source": [
    "# Data protection"
   ]
  },
  {
   "cell_type": "code",
   "execution_count": 109,
   "metadata": {
    "collapsed": false
   },
   "outputs": [],
   "source": [
    "s.setRadius(4)\n"
   ]
  },
  {
   "cell_type": "code",
   "execution_count": 110,
   "metadata": {
    "collapsed": false
   },
   "outputs": [
    {
     "ename": "AttributeError",
     "evalue": "'Sphere' object has no attribute '__setRadius'",
     "output_type": "error",
     "traceback": [
      "\u001b[0;31m---------------------------------------------------------------------------\u001b[0m",
      "\u001b[0;31mAttributeError\u001b[0m                            Traceback (most recent call last)",
      "\u001b[0;32m<ipython-input-110-4a1d27d1df40>\u001b[0m in \u001b[0;36m<module>\u001b[0;34m()\u001b[0m\n\u001b[0;32m----> 1\u001b[0;31m \u001b[0ms\u001b[0m\u001b[1;33m.\u001b[0m\u001b[0m__setRadius\u001b[0m\u001b[1;33m(\u001b[0m\u001b[1;36m5\u001b[0m\u001b[1;33m)\u001b[0m\u001b[1;33m\u001b[0m\u001b[0m\n\u001b[0m",
      "\u001b[0;31mAttributeError\u001b[0m: 'Sphere' object has no attribute '__setRadius'"
     ]
    }
   ],
   "source": [
    "s.__setRadius(5)"
   ]
  },
  {
   "cell_type": "markdown",
   "metadata": {},
   "source": [
    "The private methods begins with \"__\" and it cannot be called from external"
   ]
  },
  {
   "cell_type": "code",
   "execution_count": 111,
   "metadata": {
    "collapsed": false
   },
   "outputs": [
    {
     "name": "stdout",
     "output_type": "stream",
     "text": [
      "4\n"
     ]
    }
   ],
   "source": [
    "r=s.getRadius()\n",
    "print(r)"
   ]
  },
  {
   "cell_type": "markdown",
   "metadata": {},
   "source": [
    "# Inheritance and Polymorphism"
   ]
  },
  {
   "cell_type": "code",
   "execution_count": 117,
   "metadata": {
    "collapsed": false
   },
   "outputs": [],
   "source": [
    "class movingSphere(Sphere):\n",
    "    def __init__(self):        \n",
    "        Sphere.__init__(self)\n",
    "        \n",
    "        \n",
    "    def __str__(self): ## what happens when converted to string\n",
    "        thisStr=\"\"\n",
    "        for x in self.__dict__: # self-dictionary of attributes\n",
    "            thisStr+='%s: %s\\n'%(x,str(self.__dict__[x]))\n",
    "        return thisStr #should return a string\n",
    "        \n",
    "    def getPosition(self):\n",
    "        return self.curPos"
   ]
  },
  {
   "cell_type": "code",
   "execution_count": 118,
   "metadata": {
    "collapsed": false
   },
   "outputs": [
    {
     "data": {
      "text/plain": [
       "5"
      ]
     },
     "execution_count": 118,
     "metadata": {},
     "output_type": "execute_result"
    }
   ],
   "source": [
    "ms=movingSphere()\n",
    "ms.setRadius(5)\n",
    "ms.setPosition()\n",
    "ms.getRadius()"
   ]
  },
  {
   "cell_type": "code",
   "execution_count": 119,
   "metadata": {
    "collapsed": false
   },
   "outputs": [
    {
     "data": {
      "text/plain": [
       "array([ 0.80806277,  0.14880181])"
      ]
     },
     "execution_count": 119,
     "metadata": {},
     "output_type": "execute_result"
    }
   ],
   "source": [
    "s.setPosition()\n",
    "s.getPosition()"
   ]
  },
  {
   "cell_type": "code",
   "execution_count": 120,
   "metadata": {
    "collapsed": false
   },
   "outputs": [
    {
     "data": {
      "text/plain": [
       "array([ 0.,  0.])"
      ]
     },
     "execution_count": 120,
     "metadata": {},
     "output_type": "execute_result"
    }
   ],
   "source": [
    "s.setPosition() #this modifies anchorPosition\n",
    "ms.getPosition() #this returns curPosition"
   ]
  },
  {
   "cell_type": "markdown",
   "metadata": {},
   "source": [
    "## Default function __str__"
   ]
  },
  {
   "cell_type": "code",
   "execution_count": 121,
   "metadata": {
    "collapsed": false
   },
   "outputs": [
    {
     "name": "stdout",
     "output_type": "stream",
     "text": [
      "radius: 5\n",
      "curPos: [ 0.  0.]\n",
      "anchorPos: [ 0.36177763  0.90334839]\n",
      "\n"
     ]
    }
   ],
   "source": [
    "print(ms)"
   ]
  }
 ],
 "metadata": {
  "kernelspec": {
   "display_name": "Python [conda root]",
   "language": "python",
   "name": "conda-root-py"
  },
  "language_info": {
   "codemirror_mode": {
    "name": "ipython",
    "version": 3
   },
   "file_extension": ".py",
   "mimetype": "text/x-python",
   "name": "python",
   "nbconvert_exporter": "python",
   "pygments_lexer": "ipython3",
   "version": "3.5.2"
  }
 },
 "nbformat": 4,
 "nbformat_minor": 2
}
